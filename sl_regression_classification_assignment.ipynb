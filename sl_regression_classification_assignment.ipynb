{
 "cells": [
  {
   "cell_type": "markdown",
   "metadata": {},
   "source": [
    "# Assignment\n",
    "For each of the following situations, decide if you would model using a regression or classification model. Discuss your reasoning with your mentor next time you meet.\n",
    "\n",
    "1. The amount a person will spend on a given site in the next 24 months (regression model - continuous variable, return a predicted amount of time).\n",
    "2. What color car someone is going to buy (classification model - categorical variable due to limited number of car colors, return a color or a probability of a color).\n",
    "3. How many children a family will have (regression model - continous variable, return predicted number of children, number does not need to be present in training set, 3 children is greater than 2 children).\n",
    "4. If someone will sign up for a service (classification model - categorical variable, return yes/no or a probability of signing up).\n",
    "5. The number of times someone will get sick in a year (regression model - continuous variable, return predicted numer of times someone will get sick, number does not need to be present in the training set).\n",
    "6. The probability someone will get sick in the next month (regression model - continuous variable, ratio bounded by 0 and 1, return a predicted probability including one not seen in the training set; classification model - categorical variable, yes/no, return a probability of getting sick).\n",
    "7. Which medicine will work best for a given patient (classification model - categorical variable due to limited number of medications, return a medicine or a probability of a medicine working)."
   ]
  },
  {
   "cell_type": "code",
   "execution_count": null,
   "metadata": {},
   "outputs": [],
   "source": []
  }
 ],
 "metadata": {
  "kernelspec": {
   "display_name": "Python 3",
   "language": "python",
   "name": "python3"
  },
  "language_info": {
   "codemirror_mode": {
    "name": "ipython",
    "version": 3
   },
   "file_extension": ".py",
   "mimetype": "text/x-python",
   "name": "python",
   "nbconvert_exporter": "python",
   "pygments_lexer": "ipython3",
   "version": "3.7.4"
  }
 },
 "nbformat": 4,
 "nbformat_minor": 2
}
