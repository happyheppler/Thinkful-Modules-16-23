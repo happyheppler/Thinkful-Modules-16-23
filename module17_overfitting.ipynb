{
 "cells": [
  {
   "cell_type": "code",
   "execution_count": 1,
   "metadata": {},
   "outputs": [],
   "source": [
    "import pandas as pd\n",
    "import sklearn\n",
    "import numpy as np\n",
    "import matplotlib.pyplot as plt"
   ]
  },
  {
   "cell_type": "code",
   "execution_count": 2,
   "metadata": {},
   "outputs": [],
   "source": [
    "# Grad and process the raw data\n",
    "data_path = (\"https://raw.githubusercontent.com/Thinkful-Ed/data-201-resources/\"\n",
    "             \"master/sms_spam_collection/SMSSpamCollection\"\n",
    "            )\n",
    "sms_raw = pd.read_csv(data_path, delimiter= '\\t', header=None)\n",
    "sms_raw.columns = ['spam', 'message']\n",
    "\n",
    "# Enumerate our spammy keywords\n",
    "keywords = ['click', 'offer', 'winner', 'buy', 'free', 'cash', 'urgent']\n",
    "\n",
    "for key in keywords:\n",
    "    sms_raw[str(key)] = sms_raw.message.str.contains(\n",
    "        ' ' + str(key) + ' ',\n",
    "        case=False\n",
    ")\n",
    "    \n",
    "sms_raw['allcaps'] = sms_raw.message.str.isupper()\n",
    "\n",
    "sms_raw['spam'] = (sms_raw['spam'] == 'spam')\n",
    "\n",
    "data = sms_raw[keywords + ['allcaps']]\n",
    "target = sms_raw['spam']\n",
    "\n",
    "from sklearn.naive_bayes import BernoulliNB\n",
    "bnb = BernoulliNB()\n",
    "y_pred = bnb.fit(data, target).predict(data)"
   ]
  },
  {
   "cell_type": "code",
   "execution_count": 3,
   "metadata": {},
   "outputs": [
    {
     "name": "stdout",
     "output_type": "stream",
     "text": [
      "With 20% Holdout: 0.884304932735426\n",
      "Testing on Sample: 0.8916008614501076\n"
     ]
    }
   ],
   "source": [
    "# Test your model with different holdout groups\n",
    "from sklearn.model_selection import train_test_split\n",
    "\n",
    "# Use train_test_split to create the necessary training and testing groups\n",
    "X_train, X_test, y_train, y_test = train_test_split(data, target, test_size=0.2, random_state=20)\n",
    "print('With 20% Holdout: ' + str(bnb.fit(X_train, y_train).score(X_test, y_test)))\n",
    "print('Testing on Sample: ' + str(bnb.fit(data, target).score(data, target)))"
   ]
  },
  {
   "cell_type": "markdown",
   "metadata": {},
   "source": [
    "These scores look really consistent! It doesn't seem like our model is overfitting. Part of the reason for that is that it's so simple (more on that in a bit)."
   ]
  },
  {
   "cell_type": "code",
   "execution_count": 4,
   "metadata": {},
   "outputs": [
    {
     "data": {
      "text/plain": [
       "array([0.89784946, 0.89426523, 0.89426523, 0.890681  , 0.89605735,\n",
       "       0.89048474, 0.88150808, 0.89028777, 0.88489209, 0.89568345])"
      ]
     },
     "execution_count": 4,
     "metadata": {},
     "output_type": "execute_result"
    }
   ],
   "source": [
    "# Cross Validation\n",
    "from sklearn.model_selection import cross_val_score\n",
    "cross_val_score(bnb, data, target, cv=10)"
   ]
  },
  {
   "cell_type": "markdown",
   "metadata": {},
   "source": [
    "That's exactly what we'd hope to see. The array that cross_val_score returns is a series of accuracy scores with a different hold out group each time. If our model is overfitting at a variable amount, those scores will fluctuate. Instead, ours are relatively consistent."
   ]
  },
  {
   "cell_type": "code",
   "execution_count": 49,
   "metadata": {},
   "outputs": [
    {
     "name": "stdout",
     "output_type": "stream",
     "text": [
      "4441 4441 1131 1131\n",
      "------------------------------\n",
      "With 20% Holdout: 89.03999999999999%\n",
      "Testing on Data: 89.16%\n",
      "------------------------------\n",
      "With 20% Holdout: 0.8903625110521662\n",
      "Testing on Sample: 0.8916008614501076\n"
     ]
    }
   ],
   "source": [
    "# Implement your own cross validation with your spam model\n",
    "\n",
    "# Create test and train sets using 20% holdout\n",
    "# X is data and y is target\n",
    "mask = np.random.rand(len(data)) < 0.8\n",
    "\n",
    "X_train = data[mask]\n",
    "y_train = target[mask]\n",
    "X_test = data[~mask]\n",
    "y_test = target[~mask]\n",
    "\n",
    "print(len(X_train), len(y_train), len(X_test), len(y_test))\n",
    "\n",
    "# Train model on train set and test on test set\n",
    "# Compare to model trained and tested on full dataset\n",
    "y_pred_train = bnb.fit(X_train, y_train).predict(X_test)\n",
    "y_pred_data = bnb.fit(data, target).predict(data)\n",
    "\n",
    "# Calculate the accuracy of the model manually\n",
    "print('-' * 30)\n",
    "print('With 20% Holdout: {}%'.format(100 - round((y_test != y_pred_train).sum() / X_test.shape[0] * 100, 2)))\n",
    "print('Testing on Data: {}%'.format(100 - round((target != y_pred_data).sum() / data.shape[0] * 100, 2)))\n",
    "\n",
    "# Calculate the accuracy using .score()\n",
    "print('-' * 30)\n",
    "print('With 20% Holdout: ' + str(bnb.fit(X_train, y_train).score(X_test, y_test)))\n",
    "print('Testing on Sample: ' + str(bnb.fit(data, target).score(data, target)))"
   ]
  },
  {
   "cell_type": "code",
   "execution_count": 56,
   "metadata": {},
   "outputs": [
    {
     "name": "stdout",
     "output_type": "stream",
     "text": [
      "With 20% holdout:\n",
      "[[974  11]\n",
      " [113  33]]\n",
      "Sensitivity: 0.22602739726027396\n",
      "Specificity: 0.9888324873096447\n",
      "Percent Spam: 0.14822335025380712\n",
      "------------------------------\n",
      "Testing on Data:\n",
      "[[4770   55]\n",
      " [ 549  198]]\n",
      "Sensitivity: 0.26506024096385544\n",
      "Specificity: 0.9886010362694301\n",
      "Percent Spam: 0.15481865284974095\n"
     ]
    }
   ],
   "source": [
    "# Do a more in depth evalution of the model looking at the \n",
    "# kind of errors we're generating and what accuracy we'd get\n",
    "# if we just randomly guessed. You may want to use a\n",
    "# confusion matrix to show different kinds of errors.\n",
    "\n",
    "from sklearn.metrics import confusion_matrix\n",
    "conf_20 = confusion_matrix(y_test, y_pred_train)\n",
    "sens_20 = conf_20[1][1] / conf_20[1].sum()\n",
    "spec_20 = conf_20[0][0] / conf_20[0].sum()\n",
    "rand_20 = conf_20[1].sum() / conf_20[0].sum()\n",
    "print('With 20% holdout:')\n",
    "print(conf_20)\n",
    "print('Sensitivity: {}\\nSpecificity: {}'.format(sens_20, spec_20))\n",
    "print('Percent Spam: {}'.format(rand_20))\n",
    "\n",
    "print('-' * 30)\n",
    "conf_100 = confusion_matrix(target, y_pred_data)\n",
    "sens_100 = conf_100[1][1] / conf_100[1].sum()\n",
    "spec_100 = conf_100[0][0] / conf_100[0].sum()\n",
    "rand_100 = conf_100[1].sum() / conf_100[0].sum()\n",
    "print('Testing on Data:')\n",
    "print(conf_100)\n",
    "print('Sensitivity: {}\\nSpecificity: {}'.format(sens_100, spec_100))\n",
    "print('Percent Spam: {}'.format(rand_100))"
   ]
  }
 ],
 "metadata": {
  "kernelspec": {
   "display_name": "Python 3",
   "language": "python",
   "name": "python3"
  },
  "language_info": {
   "codemirror_mode": {
    "name": "ipython",
    "version": 3
   },
   "file_extension": ".py",
   "mimetype": "text/x-python",
   "name": "python",
   "nbconvert_exporter": "python",
   "pygments_lexer": "ipython3",
   "version": "3.7.4"
  }
 },
 "nbformat": 4,
 "nbformat_minor": 2
}
