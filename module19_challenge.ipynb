{
 "cells": [
  {
   "cell_type": "markdown",
   "metadata": {},
   "source": [
    "# Challenge: Model Comparison\n",
    "Here let's work on regression. Find a data set and build a KNN Regression and an OLS regression. Compare the two. How similar are they? Do they miss in different ways?\n",
    "\n",
    "Create a Jupyter notebook with your models. At the end in a markdown cell write a few paragraphs to describe the models' behaviors and why you favor one model or the other. Try to determine whether there is a situation where you would change your mind, or whether one is unambiguously better than the other. Lastly, try to note what it is about the data that causes the better model to outperform the weaker model. Submit a link to your notebook below."
   ]
  },
  {
   "cell_type": "code",
   "execution_count": 1,
   "metadata": {},
   "outputs": [],
   "source": [
    "import pandas as pd\n",
    "import numpy as np\n",
    "import scipy\n",
    "import matplotlib.pyplot as plt\n",
    "from scipy import stats\n",
    "from sklearn import linear_model\n",
    "from sklearn import neighbors\n",
    "from sklearn.model_selection import cross_val_score, train_test_split, GridSearchCV\n",
    "\n",
    "%matplotlib inline"
   ]
  },
  {
   "cell_type": "markdown",
   "metadata": {},
   "source": [
    "## Load Data"
   ]
  },
  {
   "cell_type": "code",
   "execution_count": 2,
   "metadata": {},
   "outputs": [
    {
     "name": "stderr",
     "output_type": "stream",
     "text": [
      "/Users/Lisa/opt/anaconda3/lib/python3.7/site-packages/IPython/core/interactiveshell.py:3058: DtypeWarning: Columns (47,73) have mixed types. Specify dtype option on import or set low_memory=False.\n",
      "  interactivity=interactivity, compiler=compiler, result=result)\n"
     ]
    }
   ],
   "source": [
    "water_df = pd.read_csv('bottle.csv')"
   ]
  },
  {
   "cell_type": "code",
   "execution_count": 3,
   "metadata": {},
   "outputs": [
    {
     "data": {
      "text/plain": [
       "Index(['Cst_Cnt', 'Btl_Cnt', 'Sta_ID', 'Depth_ID', 'Depthm', 'T_degC',\n",
       "       'Salnty', 'O2ml_L', 'STheta', 'O2Sat', 'Oxy_µmol/Kg', 'BtlNum',\n",
       "       'RecInd', 'T_prec', 'T_qual', 'S_prec', 'S_qual', 'P_qual', 'O_qual',\n",
       "       'SThtaq', 'O2Satq', 'ChlorA', 'Chlqua', 'Phaeop', 'Phaqua', 'PO4uM',\n",
       "       'PO4q', 'SiO3uM', 'SiO3qu', 'NO2uM', 'NO2q', 'NO3uM', 'NO3q', 'NH3uM',\n",
       "       'NH3q', 'C14As1', 'C14A1p', 'C14A1q', 'C14As2', 'C14A2p', 'C14A2q',\n",
       "       'DarkAs', 'DarkAp', 'DarkAq', 'MeanAs', 'MeanAp', 'MeanAq', 'IncTim',\n",
       "       'LightP', 'R_Depth', 'R_TEMP', 'R_POTEMP', 'R_SALINITY', 'R_SIGMA',\n",
       "       'R_SVA', 'R_DYNHT', 'R_O2', 'R_O2Sat', 'R_SIO3', 'R_PO4', 'R_NO3',\n",
       "       'R_NO2', 'R_NH4', 'R_CHLA', 'R_PHAEO', 'R_PRES', 'R_SAMP', 'DIC1',\n",
       "       'DIC2', 'TA1', 'TA2', 'pH2', 'pH1', 'DIC Quality Comment'],\n",
       "      dtype='object')"
      ]
     },
     "execution_count": 3,
     "metadata": {},
     "output_type": "execute_result"
    }
   ],
   "source": [
    "water_df.columns"
   ]
  },
  {
   "cell_type": "code",
   "execution_count": 4,
   "metadata": {},
   "outputs": [
    {
     "data": {
      "text/html": [
       "<div>\n",
       "<style scoped>\n",
       "    .dataframe tbody tr th:only-of-type {\n",
       "        vertical-align: middle;\n",
       "    }\n",
       "\n",
       "    .dataframe tbody tr th {\n",
       "        vertical-align: top;\n",
       "    }\n",
       "\n",
       "    .dataframe thead th {\n",
       "        text-align: right;\n",
       "    }\n",
       "</style>\n",
       "<table border=\"1\" class=\"dataframe\">\n",
       "  <thead>\n",
       "    <tr style=\"text-align: right;\">\n",
       "      <th></th>\n",
       "      <th>depth</th>\n",
       "      <th>temp</th>\n",
       "      <th>salnty</th>\n",
       "    </tr>\n",
       "  </thead>\n",
       "  <tbody>\n",
       "    <tr>\n",
       "      <td>162807</td>\n",
       "      <td>35</td>\n",
       "      <td>13.33</td>\n",
       "      <td>33.410</td>\n",
       "    </tr>\n",
       "    <tr>\n",
       "      <td>22398</td>\n",
       "      <td>73</td>\n",
       "      <td>16.94</td>\n",
       "      <td>33.870</td>\n",
       "    </tr>\n",
       "    <tr>\n",
       "      <td>136704</td>\n",
       "      <td>74</td>\n",
       "      <td>10.92</td>\n",
       "      <td>33.360</td>\n",
       "    </tr>\n",
       "    <tr>\n",
       "      <td>61221</td>\n",
       "      <td>75</td>\n",
       "      <td>10.31</td>\n",
       "      <td>33.350</td>\n",
       "    </tr>\n",
       "    <tr>\n",
       "      <td>687320</td>\n",
       "      <td>100</td>\n",
       "      <td>11.78</td>\n",
       "      <td>33.312</td>\n",
       "    </tr>\n",
       "    <tr>\n",
       "      <td>...</td>\n",
       "      <td>...</td>\n",
       "      <td>...</td>\n",
       "      <td>...</td>\n",
       "    </tr>\n",
       "    <tr>\n",
       "      <td>274306</td>\n",
       "      <td>300</td>\n",
       "      <td>7.36</td>\n",
       "      <td>34.197</td>\n",
       "    </tr>\n",
       "    <tr>\n",
       "      <td>36129</td>\n",
       "      <td>600</td>\n",
       "      <td>6.07</td>\n",
       "      <td>34.400</td>\n",
       "    </tr>\n",
       "    <tr>\n",
       "      <td>517535</td>\n",
       "      <td>148</td>\n",
       "      <td>10.30</td>\n",
       "      <td>33.334</td>\n",
       "    </tr>\n",
       "    <tr>\n",
       "      <td>673859</td>\n",
       "      <td>72</td>\n",
       "      <td>15.90</td>\n",
       "      <td>33.343</td>\n",
       "    </tr>\n",
       "    <tr>\n",
       "      <td>2241</td>\n",
       "      <td>400</td>\n",
       "      <td>5.37</td>\n",
       "      <td>34.111</td>\n",
       "    </tr>\n",
       "  </tbody>\n",
       "</table>\n",
       "<p>1000 rows × 3 columns</p>\n",
       "</div>"
      ],
      "text/plain": [
       "        depth   temp  salnty\n",
       "162807     35  13.33  33.410\n",
       "22398      73  16.94  33.870\n",
       "136704     74  10.92  33.360\n",
       "61221      75  10.31  33.350\n",
       "687320    100  11.78  33.312\n",
       "...       ...    ...     ...\n",
       "274306    300   7.36  34.197\n",
       "36129     600   6.07  34.400\n",
       "517535    148  10.30  33.334\n",
       "673859     72  15.90  33.343\n",
       "2241      400   5.37  34.111\n",
       "\n",
       "[1000 rows x 3 columns]"
      ]
     },
     "execution_count": 4,
     "metadata": {},
     "output_type": "execute_result"
    }
   ],
   "source": [
    "# Get rid of unwanted columns\n",
    "water_df = water_df[['Depthm', 'T_degC', 'Salnty']]\n",
    "\n",
    "# Rename columns\n",
    "water_df.rename(columns = {'Depthm':'depth', 'T_degC':'temp', 'Salnty':'salnty'}, inplace=True)\n",
    "\n",
    "# Take random sample of initial dataset\n",
    "water_df = water_df.sample(n=1000, random_state=1)\n",
    "\n",
    "water_df"
   ]
  },
  {
   "cell_type": "markdown",
   "metadata": {},
   "source": [
    "### Data Info\n",
    "Obtained from https://www.kaggle.com/sohier/calcofi#bottle.csv\n",
    "\n",
    "* depth = water depth in meters\n",
    "* temp = water temp in degree celsius\n",
    "* salnty = water salinity in g of salt per kg of water (g/kg)\n",
    "\n",
    "### Objective\n",
    "Build a KNN Regression model and an OLS regression model to predict water temperature using water depth and salinity."
   ]
  },
  {
   "cell_type": "markdown",
   "metadata": {},
   "source": [
    "## Explore and Clean Data"
   ]
  },
  {
   "cell_type": "code",
   "execution_count": 5,
   "metadata": {
    "scrolled": false
   },
   "outputs": [
    {
     "data": {
      "text/html": [
       "<div>\n",
       "<style scoped>\n",
       "    .dataframe tbody tr th:only-of-type {\n",
       "        vertical-align: middle;\n",
       "    }\n",
       "\n",
       "    .dataframe tbody tr th {\n",
       "        vertical-align: top;\n",
       "    }\n",
       "\n",
       "    .dataframe thead th {\n",
       "        text-align: right;\n",
       "    }\n",
       "</style>\n",
       "<table border=\"1\" class=\"dataframe\">\n",
       "  <thead>\n",
       "    <tr style=\"text-align: right;\">\n",
       "      <th></th>\n",
       "      <th>depth</th>\n",
       "      <th>temp</th>\n",
       "      <th>salnty</th>\n",
       "    </tr>\n",
       "  </thead>\n",
       "  <tbody>\n",
       "    <tr>\n",
       "      <td>count</td>\n",
       "      <td>1000.00000</td>\n",
       "      <td>993.000000</td>\n",
       "      <td>959.000000</td>\n",
       "    </tr>\n",
       "    <tr>\n",
       "      <td>mean</td>\n",
       "      <td>245.47100</td>\n",
       "      <td>10.651397</td>\n",
       "      <td>33.856864</td>\n",
       "    </tr>\n",
       "    <tr>\n",
       "      <td>std</td>\n",
       "      <td>328.74541</td>\n",
       "      <td>4.314818</td>\n",
       "      <td>0.460375</td>\n",
       "    </tr>\n",
       "    <tr>\n",
       "      <td>min</td>\n",
       "      <td>0.00000</td>\n",
       "      <td>1.740000</td>\n",
       "      <td>32.456000</td>\n",
       "    </tr>\n",
       "    <tr>\n",
       "      <td>25%</td>\n",
       "      <td>44.75000</td>\n",
       "      <td>7.410000</td>\n",
       "      <td>33.498000</td>\n",
       "    </tr>\n",
       "    <tr>\n",
       "      <td>50%</td>\n",
       "      <td>125.00000</td>\n",
       "      <td>9.980000</td>\n",
       "      <td>33.874000</td>\n",
       "    </tr>\n",
       "    <tr>\n",
       "      <td>75%</td>\n",
       "      <td>300.00000</td>\n",
       "      <td>13.840000</td>\n",
       "      <td>34.212000</td>\n",
       "    </tr>\n",
       "    <tr>\n",
       "      <td>max</td>\n",
       "      <td>2771.00000</td>\n",
       "      <td>28.340000</td>\n",
       "      <td>35.862000</td>\n",
       "    </tr>\n",
       "  </tbody>\n",
       "</table>\n",
       "</div>"
      ],
      "text/plain": [
       "            depth        temp      salnty\n",
       "count  1000.00000  993.000000  959.000000\n",
       "mean    245.47100   10.651397   33.856864\n",
       "std     328.74541    4.314818    0.460375\n",
       "min       0.00000    1.740000   32.456000\n",
       "25%      44.75000    7.410000   33.498000\n",
       "50%     125.00000    9.980000   33.874000\n",
       "75%     300.00000   13.840000   34.212000\n",
       "max    2771.00000   28.340000   35.862000"
      ]
     },
     "execution_count": 5,
     "metadata": {},
     "output_type": "execute_result"
    }
   ],
   "source": [
    "water_df.describe()"
   ]
  },
  {
   "cell_type": "code",
   "execution_count": 6,
   "metadata": {
    "scrolled": true
   },
   "outputs": [
    {
     "data": {
      "text/plain": [
       "depth      0\n",
       "temp       7\n",
       "salnty    41\n",
       "dtype: int64"
      ]
     },
     "execution_count": 6,
     "metadata": {},
     "output_type": "execute_result"
    }
   ],
   "source": [
    "# Check for missing values (na)\n",
    "water_df.isnull().sum()"
   ]
  },
  {
   "cell_type": "code",
   "execution_count": 7,
   "metadata": {
    "scrolled": false
   },
   "outputs": [
    {
     "data": {
      "text/html": [
       "<div>\n",
       "<style scoped>\n",
       "    .dataframe tbody tr th:only-of-type {\n",
       "        vertical-align: middle;\n",
       "    }\n",
       "\n",
       "    .dataframe tbody tr th {\n",
       "        vertical-align: top;\n",
       "    }\n",
       "\n",
       "    .dataframe thead th {\n",
       "        text-align: right;\n",
       "    }\n",
       "</style>\n",
       "<table border=\"1\" class=\"dataframe\">\n",
       "  <thead>\n",
       "    <tr style=\"text-align: right;\">\n",
       "      <th></th>\n",
       "      <th>depth</th>\n",
       "      <th>temp</th>\n",
       "      <th>salnty</th>\n",
       "    </tr>\n",
       "  </thead>\n",
       "  <tbody>\n",
       "    <tr>\n",
       "      <td>162807</td>\n",
       "      <td>35</td>\n",
       "      <td>13.33</td>\n",
       "      <td>33.410</td>\n",
       "    </tr>\n",
       "    <tr>\n",
       "      <td>22398</td>\n",
       "      <td>73</td>\n",
       "      <td>16.94</td>\n",
       "      <td>33.870</td>\n",
       "    </tr>\n",
       "    <tr>\n",
       "      <td>136704</td>\n",
       "      <td>74</td>\n",
       "      <td>10.92</td>\n",
       "      <td>33.360</td>\n",
       "    </tr>\n",
       "    <tr>\n",
       "      <td>61221</td>\n",
       "      <td>75</td>\n",
       "      <td>10.31</td>\n",
       "      <td>33.350</td>\n",
       "    </tr>\n",
       "    <tr>\n",
       "      <td>687320</td>\n",
       "      <td>100</td>\n",
       "      <td>11.78</td>\n",
       "      <td>33.312</td>\n",
       "    </tr>\n",
       "    <tr>\n",
       "      <td>...</td>\n",
       "      <td>...</td>\n",
       "      <td>...</td>\n",
       "      <td>...</td>\n",
       "    </tr>\n",
       "    <tr>\n",
       "      <td>274306</td>\n",
       "      <td>300</td>\n",
       "      <td>7.36</td>\n",
       "      <td>34.197</td>\n",
       "    </tr>\n",
       "    <tr>\n",
       "      <td>36129</td>\n",
       "      <td>600</td>\n",
       "      <td>6.07</td>\n",
       "      <td>34.400</td>\n",
       "    </tr>\n",
       "    <tr>\n",
       "      <td>517535</td>\n",
       "      <td>148</td>\n",
       "      <td>10.30</td>\n",
       "      <td>33.334</td>\n",
       "    </tr>\n",
       "    <tr>\n",
       "      <td>673859</td>\n",
       "      <td>72</td>\n",
       "      <td>15.90</td>\n",
       "      <td>33.343</td>\n",
       "    </tr>\n",
       "    <tr>\n",
       "      <td>2241</td>\n",
       "      <td>400</td>\n",
       "      <td>5.37</td>\n",
       "      <td>34.111</td>\n",
       "    </tr>\n",
       "  </tbody>\n",
       "</table>\n",
       "<p>955 rows × 3 columns</p>\n",
       "</div>"
      ],
      "text/plain": [
       "        depth   temp  salnty\n",
       "162807     35  13.33  33.410\n",
       "22398      73  16.94  33.870\n",
       "136704     74  10.92  33.360\n",
       "61221      75  10.31  33.350\n",
       "687320    100  11.78  33.312\n",
       "...       ...    ...     ...\n",
       "274306    300   7.36  34.197\n",
       "36129     600   6.07  34.400\n",
       "517535    148  10.30  33.334\n",
       "673859     72  15.90  33.343\n",
       "2241      400   5.37  34.111\n",
       "\n",
       "[955 rows x 3 columns]"
      ]
     },
     "execution_count": 7,
     "metadata": {},
     "output_type": "execute_result"
    }
   ],
   "source": [
    "# Drop records with missing values\n",
    "water_df = water_df.dropna()\n",
    "water_df"
   ]
  },
  {
   "cell_type": "code",
   "execution_count": 8,
   "metadata": {},
   "outputs": [
    {
     "name": "stderr",
     "output_type": "stream",
     "text": [
      "/Users/Lisa/opt/anaconda3/lib/python3.7/site-packages/ipykernel_launcher.py:3: SettingWithCopyWarning: \n",
      "A value is trying to be set on a copy of a slice from a DataFrame.\n",
      "Try using .loc[row_indexer,col_indexer] = value instead\n",
      "\n",
      "See the caveats in the documentation: http://pandas.pydata.org/pandas-docs/stable/user_guide/indexing.html#returning-a-view-versus-a-copy\n",
      "  This is separate from the ipykernel package so we can avoid doing imports until\n"
     ]
    },
    {
     "data": {
      "text/html": [
       "<div>\n",
       "<style scoped>\n",
       "    .dataframe tbody tr th:only-of-type {\n",
       "        vertical-align: middle;\n",
       "    }\n",
       "\n",
       "    .dataframe tbody tr th {\n",
       "        vertical-align: top;\n",
       "    }\n",
       "\n",
       "    .dataframe thead th {\n",
       "        text-align: right;\n",
       "    }\n",
       "</style>\n",
       "<table border=\"1\" class=\"dataframe\">\n",
       "  <thead>\n",
       "    <tr style=\"text-align: right;\">\n",
       "      <th></th>\n",
       "      <th>depth</th>\n",
       "      <th>temp</th>\n",
       "      <th>salnty</th>\n",
       "      <th>log_depth</th>\n",
       "    </tr>\n",
       "  </thead>\n",
       "  <tbody>\n",
       "    <tr>\n",
       "      <td>162807</td>\n",
       "      <td>35</td>\n",
       "      <td>13.33</td>\n",
       "      <td>33.410</td>\n",
       "      <td>1.556303</td>\n",
       "    </tr>\n",
       "    <tr>\n",
       "      <td>22398</td>\n",
       "      <td>73</td>\n",
       "      <td>16.94</td>\n",
       "      <td>33.870</td>\n",
       "      <td>1.869232</td>\n",
       "    </tr>\n",
       "    <tr>\n",
       "      <td>136704</td>\n",
       "      <td>74</td>\n",
       "      <td>10.92</td>\n",
       "      <td>33.360</td>\n",
       "      <td>1.875061</td>\n",
       "    </tr>\n",
       "    <tr>\n",
       "      <td>61221</td>\n",
       "      <td>75</td>\n",
       "      <td>10.31</td>\n",
       "      <td>33.350</td>\n",
       "      <td>1.880814</td>\n",
       "    </tr>\n",
       "    <tr>\n",
       "      <td>687320</td>\n",
       "      <td>100</td>\n",
       "      <td>11.78</td>\n",
       "      <td>33.312</td>\n",
       "      <td>2.004321</td>\n",
       "    </tr>\n",
       "    <tr>\n",
       "      <td>...</td>\n",
       "      <td>...</td>\n",
       "      <td>...</td>\n",
       "      <td>...</td>\n",
       "      <td>...</td>\n",
       "    </tr>\n",
       "    <tr>\n",
       "      <td>274306</td>\n",
       "      <td>300</td>\n",
       "      <td>7.36</td>\n",
       "      <td>34.197</td>\n",
       "      <td>2.478566</td>\n",
       "    </tr>\n",
       "    <tr>\n",
       "      <td>36129</td>\n",
       "      <td>600</td>\n",
       "      <td>6.07</td>\n",
       "      <td>34.400</td>\n",
       "      <td>2.778874</td>\n",
       "    </tr>\n",
       "    <tr>\n",
       "      <td>517535</td>\n",
       "      <td>148</td>\n",
       "      <td>10.30</td>\n",
       "      <td>33.334</td>\n",
       "      <td>2.173186</td>\n",
       "    </tr>\n",
       "    <tr>\n",
       "      <td>673859</td>\n",
       "      <td>72</td>\n",
       "      <td>15.90</td>\n",
       "      <td>33.343</td>\n",
       "      <td>1.863323</td>\n",
       "    </tr>\n",
       "    <tr>\n",
       "      <td>2241</td>\n",
       "      <td>400</td>\n",
       "      <td>5.37</td>\n",
       "      <td>34.111</td>\n",
       "      <td>2.603144</td>\n",
       "    </tr>\n",
       "  </tbody>\n",
       "</table>\n",
       "<p>955 rows × 4 columns</p>\n",
       "</div>"
      ],
      "text/plain": [
       "        depth   temp  salnty  log_depth\n",
       "162807     35  13.33  33.410   1.556303\n",
       "22398      73  16.94  33.870   1.869232\n",
       "136704     74  10.92  33.360   1.875061\n",
       "61221      75  10.31  33.350   1.880814\n",
       "687320    100  11.78  33.312   2.004321\n",
       "...       ...    ...     ...        ...\n",
       "274306    300   7.36  34.197   2.478566\n",
       "36129     600   6.07  34.400   2.778874\n",
       "517535    148  10.30  33.334   2.173186\n",
       "673859     72  15.90  33.343   1.863323\n",
       "2241      400   5.37  34.111   2.603144\n",
       "\n",
       "[955 rows x 4 columns]"
      ]
     },
     "execution_count": 8,
     "metadata": {},
     "output_type": "execute_result"
    }
   ],
   "source": [
    "# Transform water depth to make distribution more normal\n",
    "# Use log10(x + 1) due to zero values\n",
    "water_df['log_depth'] = np.log10(water_df['depth'] + 1)\n",
    "water_df"
   ]
  },
  {
   "cell_type": "code",
   "execution_count": 9,
   "metadata": {},
   "outputs": [
    {
     "data": {
      "image/png": "[encoded data removed]",
      "text/plain": [
       "<Figure size 1152x288 with 4 Axes>"
      ]
     },
     "metadata": {
      "needs_background": "light"
     },
     "output_type": "display_data"
    }
   ],
   "source": [
    "# Look at distribution of target and explanatory variables\n",
    "plt.figure(figsize=(16, 4))\n",
    "\n",
    "plt.subplot(1, 4, 1)\n",
    "plt.hist(water_df['temp'], color='r')\n",
    "plt.xlabel('Water Temp (C)')\n",
    "plt.ylabel('Counts')\n",
    "plt.title('Histogram of Water Temp')\n",
    "\n",
    "plt.subplot(1, 4, 2)\n",
    "plt.hist(water_df['depth'], color='b')\n",
    "plt.xlabel('Water Depth (m)')\n",
    "plt.ylabel('Counts')\n",
    "plt.title('Histogram of Water Depth')\n",
    "\n",
    "plt.subplot(1, 4, 3)\n",
    "plt.hist(water_df['log_depth'], color='b')\n",
    "plt.xlabel('Water Depth (log10)')\n",
    "plt.ylabel('Counts')\n",
    "plt.title('Histogram of Water Depth\\n(Log Transformed)')\n",
    "\n",
    "plt.subplot(1, 4, 4)\n",
    "plt.hist(water_df['salnty'], color='g')\n",
    "plt.xlabel('Water Salinity (g/kg)')\n",
    "plt.ylabel('Counts')\n",
    "plt.title('Histogram of Water Salinity')\n",
    "\n",
    "plt.tight_layout()\n",
    "plt.show()"
   ]
  },
  {
   "cell_type": "code",
   "execution_count": 10,
   "metadata": {},
   "outputs": [
    {
     "data": {
      "image/png": "[encoded data removed]",
      "text/plain": [
       "<Figure size 1080x360 with 3 Axes>"
      ]
     },
     "metadata": {
      "needs_background": "light"
     },
     "output_type": "display_data"
    }
   ],
   "source": [
    "# Look at relationship between water temp, water depth, and water salinity\n",
    "plt.figure(figsize=(15, 5))\n",
    "\n",
    "plt.subplot(1, 3, 1)\n",
    "plt.scatter(water_df['temp'],\n",
    "            water_df['log_depth'],\n",
    "            color='r')\n",
    "plt.xlabel('Water Temp (C)')\n",
    "plt.ylabel('Water Depth (log10)')\n",
    "plt.title('Water Temp vs. Log Transformed Water Depth')\n",
    "\n",
    "plt.subplot(1, 3, 2)\n",
    "plt.scatter(water_df['temp'],\n",
    "            water_df['salnty'],\n",
    "            color='b')\n",
    "plt.xlabel('Water Temp (C)')\n",
    "plt.ylabel('Water Salinty (g/kg)')\n",
    "plt.title('Water Temp vs. Water Salinity')\n",
    "\n",
    "plt.subplot(1, 3, 3)\n",
    "plt.scatter(water_df['log_depth'],\n",
    "            water_df['salnty'],\n",
    "            color='g')\n",
    "plt.xlabel('Water Depth (log10)')\n",
    "plt.ylabel('Water Salinty (g/kg)')\n",
    "plt.title('Log Transformed Water Depth vs. Water Salinity')\n",
    "\n",
    "plt.tight_layout()\n",
    "plt.show()"
   ]
  },
  {
   "cell_type": "code",
   "execution_count": 11,
   "metadata": {},
   "outputs": [
    {
     "data": {
      "text/html": [
       "<div>\n",
       "<style scoped>\n",
       "    .dataframe tbody tr th:only-of-type {\n",
       "        vertical-align: middle;\n",
       "    }\n",
       "\n",
       "    .dataframe tbody tr th {\n",
       "        vertical-align: top;\n",
       "    }\n",
       "\n",
       "    .dataframe thead th {\n",
       "        text-align: right;\n",
       "    }\n",
       "</style>\n",
       "<table border=\"1\" class=\"dataframe\">\n",
       "  <thead>\n",
       "    <tr style=\"text-align: right;\">\n",
       "      <th></th>\n",
       "      <th>depth</th>\n",
       "      <th>temp</th>\n",
       "      <th>salnty</th>\n",
       "      <th>log_depth</th>\n",
       "    </tr>\n",
       "  </thead>\n",
       "  <tbody>\n",
       "    <tr>\n",
       "      <td>depth</td>\n",
       "      <td>1.000000</td>\n",
       "      <td>-0.707034</td>\n",
       "      <td>0.610412</td>\n",
       "      <td>0.694643</td>\n",
       "    </tr>\n",
       "    <tr>\n",
       "      <td>temp</td>\n",
       "      <td>-0.707034</td>\n",
       "      <td>1.000000</td>\n",
       "      <td>-0.538027</td>\n",
       "      <td>-0.829710</td>\n",
       "    </tr>\n",
       "    <tr>\n",
       "      <td>salnty</td>\n",
       "      <td>0.610412</td>\n",
       "      <td>-0.538027</td>\n",
       "      <td>1.000000</td>\n",
       "      <td>0.662828</td>\n",
       "    </tr>\n",
       "    <tr>\n",
       "      <td>log_depth</td>\n",
       "      <td>0.694643</td>\n",
       "      <td>-0.829710</td>\n",
       "      <td>0.662828</td>\n",
       "      <td>1.000000</td>\n",
       "    </tr>\n",
       "  </tbody>\n",
       "</table>\n",
       "</div>"
      ],
      "text/plain": [
       "              depth      temp    salnty  log_depth\n",
       "depth      1.000000 -0.707034  0.610412   0.694643\n",
       "temp      -0.707034  1.000000 -0.538027  -0.829710\n",
       "salnty     0.610412 -0.538027  1.000000   0.662828\n",
       "log_depth  0.694643 -0.829710  0.662828   1.000000"
      ]
     },
     "execution_count": 11,
     "metadata": {},
     "output_type": "execute_result"
    }
   ],
   "source": [
    "# Look at correlation matrix\n",
    "water_df.corr()"
   ]
  },
  {
   "cell_type": "markdown",
   "metadata": {},
   "source": [
    "## Build KNN Regression Models"
   ]
  },
  {
   "cell_type": "markdown",
   "metadata": {},
   "source": [
    "### Depth Only"
   ]
  },
  {
   "cell_type": "code",
   "execution_count": 12,
   "metadata": {
    "scrolled": true
   },
   "outputs": [
    {
     "name": "stdout",
     "output_type": "stream",
     "text": [
      "{'n_neighbors': 45, 'weights': 'uniform'}\n"
     ]
    }
   ],
   "source": [
    "# Find optimal k and weights\n",
    "grid_params = {\n",
    "    'n_neighbors': [1, 5, 10, 15, 20, 25, 30, 35, 40, 45, 50, 55, 60, 65, 70, 75, 80, 85, 90, 95],\n",
    "    'weights': ['uniform', 'distance']} \n",
    "\n",
    "# Use z-scores instead of raw data\n",
    "X = pd.DataFrame(stats.zscore(water_df['log_depth']))\n",
    "Y = water_df['temp']\n",
    "\n",
    "knn = neighbors.KNeighborsRegressor()\n",
    "\n",
    "model = GridSearchCV(knn, grid_params, cv=5)\n",
    "results = model.fit(X, Y)\n",
    "\n",
    "print(results.best_params_)"
   ]
  },
  {
   "cell_type": "code",
   "execution_count": 13,
   "metadata": {
    "scrolled": true
   },
   "outputs": [
    {
     "data": {
      "image/png": "[encoded data removed]",
      "text/plain": [
       "<Figure size 432x288 with 1 Axes>"
      ]
     },
     "metadata": {
      "needs_background": "light"
     },
     "output_type": "display_data"
    }
   ],
   "source": [
    "# Use optimal parameters to build KNN model\n",
    "knn = neighbors.KNeighborsRegressor(n_neighbors=45, weights='uniform')\n",
    "\n",
    "knn.fit(X, Y)\n",
    "\n",
    "# Set up our prediction line\n",
    "T = np.arange(-3, 3, 0.1)[:, np.newaxis]\n",
    "\n",
    "# Trailing underscores are common convention for a prediction\n",
    "Y_ = knn.predict(T)\n",
    "\n",
    "plt.scatter(X, Y, c='k', label='data')\n",
    "plt.plot(T, Y_, c='g', label='prediction')\n",
    "plt.legend()\n",
    "plt.xlabel('Water Depth (z-scores)')\n",
    "plt.ylabel('Water Temp (C)')\n",
    "plt.title('K=45, Unweighted')\n",
    "\n",
    "plt.show()"
   ]
  },
  {
   "cell_type": "code",
   "execution_count": 14,
   "metadata": {
    "scrolled": true
   },
   "outputs": [
    {
     "name": "stdout",
     "output_type": "stream",
     "text": [
      "[0.75843457 0.78625529 0.72458534 0.82066505 0.81802064]\n",
      "Unweighted Accuracy: 0.78 (+/- 0.07)\n"
     ]
    }
   ],
   "source": [
    "# Test accuracy of model\n",
    "score = cross_val_score(knn, X, Y, cv=5)\n",
    "print(score)\n",
    "print('Unweighted Accuracy: %0.2f (+/- %0.2f)' % (score.mean(), score.std() * 2))"
   ]
  },
  {
   "cell_type": "markdown",
   "metadata": {},
   "source": [
    "### Salinity Only"
   ]
  },
  {
   "cell_type": "code",
   "execution_count": 15,
   "metadata": {},
   "outputs": [
    {
     "name": "stdout",
     "output_type": "stream",
     "text": [
      "{'n_neighbors': 55, 'weights': 'uniform'}\n"
     ]
    }
   ],
   "source": [
    "# Find optimal k and weights\n",
    "grid_params = {\n",
    "    'n_neighbors': [1, 5, 10, 15, 20, 25, 30, 35, 40, 45, 50, 55, 60, 65, 70, 75, 80, 85, 90, 95],\n",
    "    'weights': ['uniform', 'distance']} \n",
    "\n",
    "# Use z-scores instead of raw data\n",
    "X = pd.DataFrame(stats.zscore(water_df['salnty']))\n",
    "Y = water_df['temp']\n",
    "\n",
    "knn = neighbors.KNeighborsRegressor()\n",
    "\n",
    "model = GridSearchCV(knn, grid_params, cv=5)\n",
    "results = model.fit(X, Y)\n",
    "\n",
    "print(results.best_params_)"
   ]
  },
  {
   "cell_type": "code",
   "execution_count": 16,
   "metadata": {
    "scrolled": true
   },
   "outputs": [
    {
     "data": {
      "image/png": "[encoded data removed]",
      "text/plain": [
       "<Figure size 432x288 with 1 Axes>"
      ]
     },
     "metadata": {
      "needs_background": "light"
     },
     "output_type": "display_data"
    }
   ],
   "source": [
    "# Use optimal parameters to build KNN model\n",
    "knn = neighbors.KNeighborsRegressor(n_neighbors=55, weights='uniform')\n",
    "\n",
    "knn.fit(X, Y)\n",
    "\n",
    "# Set up our prediction line\n",
    "T = np.arange(-3, 5, 0.1)[:, np.newaxis]\n",
    "\n",
    "# Trailing underscores are common convention for a prediction\n",
    "Y_ = knn.predict(T)\n",
    "\n",
    "plt.scatter(X, Y, c='k', label='data')\n",
    "plt.plot(T, Y_, c='g', label='prediction')\n",
    "plt.legend()\n",
    "plt.xlabel('Water Salinity (z-scores)')\n",
    "plt.ylabel('Water Temp (C)')\n",
    "plt.title('K=55, Unweighted')\n",
    "\n",
    "plt.show()"
   ]
  },
  {
   "cell_type": "code",
   "execution_count": 17,
   "metadata": {
    "scrolled": true
   },
   "outputs": [
    {
     "name": "stdout",
     "output_type": "stream",
     "text": [
      "[0.40966548 0.50150048 0.24056744 0.43700384 0.51874497]\n",
      "Unweighted Accuracy: 0.42 (+/- 0.20)\n"
     ]
    }
   ],
   "source": [
    "# Test accuracy of model\n",
    "score = cross_val_score(knn, X, Y, cv=5)\n",
    "print(score)\n",
    "print('Unweighted Accuracy: %0.2f (+/- %0.2f)' % (score.mean(), score.std() * 2))"
   ]
  },
  {
   "cell_type": "markdown",
   "metadata": {},
   "source": [
    "### Depth and Salinity"
   ]
  },
  {
   "cell_type": "code",
   "execution_count": 18,
   "metadata": {},
   "outputs": [
    {
     "name": "stdout",
     "output_type": "stream",
     "text": [
      "{'n_neighbors': 45, 'weights': 'uniform'}\n"
     ]
    }
   ],
   "source": [
    "# Find optimal k and weights\n",
    "grid_params = {\n",
    "    'n_neighbors': [1, 5, 10, 15, 20, 25, 30, 35, 40, 45, 50, 55, 60, 65, 70, 75, 80, 85, 90, 95],\n",
    "    'weights': ['uniform', 'distance']} \n",
    "\n",
    "# Use z-scores instead of raw data\n",
    "X = pd.DataFrame(stats.zscore(water_df['log_depth']),\n",
    "                 stats.zscore(water_df['salnty']))\n",
    "Y = water_df['temp']\n",
    "\n",
    "knn = neighbors.KNeighborsRegressor()\n",
    "\n",
    "model = GridSearchCV(knn, grid_params, cv=5)\n",
    "results = model.fit(X, Y)\n",
    "\n",
    "print(results.best_params_)"
   ]
  },
  {
   "cell_type": "code",
   "execution_count": 19,
   "metadata": {},
   "outputs": [
    {
     "name": "stdout",
     "output_type": "stream",
     "text": [
      "[0.75843457 0.78625529 0.72458534 0.82066505 0.81802064]\n",
      "Unweighted Accuracy: 0.78 (+/- 0.07)\n"
     ]
    }
   ],
   "source": [
    "# Use optimal parameters to build KNN model\n",
    "knn = neighbors.KNeighborsRegressor(n_neighbors=45, weights='uniform')\n",
    "\n",
    "knn.fit(X, Y)\n",
    "\n",
    "# Test accuracy of model\n",
    "score = cross_val_score(knn, X, Y, cv=5)\n",
    "print(score)\n",
    "print('Unweighted Accuracy: %0.2f (+/- %0.2f)' % (score.mean(), score.std() * 2))"
   ]
  },
  {
   "cell_type": "markdown",
   "metadata": {},
   "source": [
    "## Build OLS Regression Models"
   ]
  },
  {
   "cell_type": "markdown",
   "metadata": {},
   "source": [
    "### Depth Only"
   ]
  },
  {
   "cell_type": "code",
   "execution_count": 20,
   "metadata": {},
   "outputs": [
    {
     "data": {
      "image/png": "[encoded data removed]",
      "text/plain": [
       "<Figure size 432x288 with 1 Axes>"
      ]
     },
     "metadata": {
      "needs_background": "light"
     },
     "output_type": "display_data"
    }
   ],
   "source": [
    "# Build OLS model\n",
    "X = water_df[['log_depth']]\n",
    "Y = water_df['temp']\n",
    "\n",
    "lrm = linear_model.LinearRegression()\n",
    "\n",
    "lrm.fit(X, Y)\n",
    "\n",
    "# Set up our prediction line\n",
    "T = np.arange(-1, 4, 0.1)[:, np.newaxis]\n",
    "\n",
    "# Trailing underscores are common convention for a prediction\n",
    "Y_ = lrm.predict(T)\n",
    "\n",
    "plt.scatter(X, Y, c='k', label='data')\n",
    "plt.plot(T, Y_, c='g', label='prediction')\n",
    "plt.legend()\n",
    "plt.xlabel('Water Depth (log10)')\n",
    "plt.ylabel('Water Temp (C)')\n",
    "plt.title('OLS')\n",
    "\n",
    "plt.show()"
   ]
  },
  {
   "cell_type": "code",
   "execution_count": 21,
   "metadata": {},
   "outputs": [
    {
     "name": "stdout",
     "output_type": "stream",
     "text": [
      "[0.68952972 0.67153306 0.60224084 0.74518308 0.70228318]\n",
      "Accuracy: 0.68 (+/- 0.09)\n"
     ]
    }
   ],
   "source": [
    "# Test accuracy of model\n",
    "score = cross_val_score(lrm, X, Y, cv=5)\n",
    "print(score)\n",
    "print('Accuracy: %0.2f (+/- %0.2f)' % (score.mean(), score.std() * 2))"
   ]
  },
  {
   "cell_type": "markdown",
   "metadata": {},
   "source": [
    "### Salinity Only"
   ]
  },
  {
   "cell_type": "code",
   "execution_count": 22,
   "metadata": {},
   "outputs": [
    {
     "data": {
      "image/png": "[encoded data removed]",
      "text/plain": [
       "<Figure size 432x288 with 1 Axes>"
      ]
     },
     "metadata": {
      "needs_background": "light"
     },
     "output_type": "display_data"
    }
   ],
   "source": [
    "# Build OLS model\n",
    "X = water_df[['salnty']]\n",
    "Y = water_df['temp']\n",
    "\n",
    "lrm = linear_model.LinearRegression()\n",
    "\n",
    "lrm.fit(X, Y)\n",
    "\n",
    "# Set up our prediction line\n",
    "T = np.arange(33, 36, 0.1)[:, np.newaxis]\n",
    "\n",
    "# Trailing underscores are common convention for a prediction\n",
    "Y_ = lrm.predict(T)\n",
    "\n",
    "plt.scatter(X, Y, c='k', label='data')\n",
    "plt.plot(T, Y_, c='g', label='prediction')\n",
    "plt.legend()\n",
    "plt.xlabel('Water Salinity (g/kg)')\n",
    "plt.ylabel('Water Temp (C)')\n",
    "plt.title('OLS')\n",
    "\n",
    "plt.show()"
   ]
  },
  {
   "cell_type": "code",
   "execution_count": 23,
   "metadata": {},
   "outputs": [
    {
     "name": "stdout",
     "output_type": "stream",
     "text": [
      "[0.23007655 0.27228745 0.14878928 0.36070382 0.38845358]\n",
      "Accuracy: 0.28 (+/- 0.17)\n"
     ]
    }
   ],
   "source": [
    "# Test accuracy of model\n",
    "score = cross_val_score(lrm, X, Y, cv=5)\n",
    "print(score)\n",
    "print('Accuracy: %0.2f (+/- %0.2f)' % (score.mean(), score.std() * 2))"
   ]
  },
  {
   "cell_type": "markdown",
   "metadata": {},
   "source": [
    "### Depth and Salinity"
   ]
  },
  {
   "cell_type": "code",
   "execution_count": 24,
   "metadata": {},
   "outputs": [
    {
     "name": "stdout",
     "output_type": "stream",
     "text": [
      "[0.68801427 0.67103352 0.6022627  0.74176125 0.69590202]\n",
      "Accuracy: 0.68 (+/- 0.09)\n"
     ]
    }
   ],
   "source": [
    "# Build OLS model\n",
    "X = water_df[['log_depth', 'salnty']]\n",
    "Y = water_df['temp']\n",
    "\n",
    "lrm = linear_model.LinearRegression()\n",
    "\n",
    "lrm.fit(X, Y)\n",
    "\n",
    "# Test accuracy of model\n",
    "score = cross_val_score(lrm, X, Y, cv=5)\n",
    "print(score)\n",
    "print('Accuracy: %0.2f (+/- %0.2f)' % (score.mean(), score.std() * 2))"
   ]
  },
  {
   "cell_type": "markdown",
   "metadata": {},
   "source": [
    "### Depth, Salinity, and Interaction"
   ]
  },
  {
   "cell_type": "code",
   "execution_count": 25,
   "metadata": {},
   "outputs": [
    {
     "name": "stdout",
     "output_type": "stream",
     "text": [
      "[0.75857078 0.75717425 0.6938147  0.76794473 0.76384405]\n",
      "Accuracy: 0.75 (+/- 0.05)\n"
     ]
    },
    {
     "name": "stderr",
     "output_type": "stream",
     "text": [
      "/Users/Lisa/opt/anaconda3/lib/python3.7/site-packages/ipykernel_launcher.py:3: SettingWithCopyWarning: \n",
      "A value is trying to be set on a copy of a slice from a DataFrame.\n",
      "Try using .loc[row_indexer,col_indexer] = value instead\n",
      "\n",
      "See the caveats in the documentation: http://pandas.pydata.org/pandas-docs/stable/user_guide/indexing.html#returning-a-view-versus-a-copy\n",
      "  This is separate from the ipykernel package so we can avoid doing imports until\n"
     ]
    }
   ],
   "source": [
    "# Build OLS model\n",
    "\n",
    "water_df['dep_int_sal'] = water_df['log_depth'] * water_df['salnty']\n",
    "\n",
    "X = water_df[['log_depth', 'salnty', 'dep_int_sal']]\n",
    "Y = water_df['temp']\n",
    "\n",
    "lrm = linear_model.LinearRegression()\n",
    "\n",
    "lrm.fit(X, Y)\n",
    "\n",
    "# Test accuracy of model\n",
    "score = cross_val_score(lrm, X, Y, cv=5)\n",
    "print(score)\n",
    "print('Accuracy: %0.2f (+/- %0.2f)' % (score.mean(), score.std() * 2))"
   ]
  },
  {
   "cell_type": "markdown",
   "metadata": {},
   "source": [
    "## Commentary"
   ]
  },
  {
   "cell_type": "markdown",
   "metadata": {},
   "source": [
    "My best KNN model is only slightly better than my best OLS model as measured by accuracy plus/minus variance (0.78 +/- 0.07 vs. 0.75 +/- 0.05).\n",
    "\n",
    "Interestingly, both models did just as well with depth alone as they did with depth and salinity, indicating that salinity alone does not add any unique information to either type of regression model. That being said, the interaction between depth and salinity did improve the accuracy of the OLS model quite a bit (0.68 +/- 0.09 vs. 0.75 +/- 0.05).\n",
    "\n",
    "I was unable to include an interaction term in the KNN model, which may suggest a possible advantage of OLS models over KNN models. My gut reaction is to conclude that OLS models will perform better on data that can be explained by a linear/polynomial function, while KNN models will perform better on non-linear/non-polynomial data. Likewise, KNN models may be a safer option when the relationship is unknown."
   ]
  },
  {
   "cell_type": "code",
   "execution_count": null,
   "metadata": {},
   "outputs": [],
   "source": []
  }
 ],
 "metadata": {
  "kernelspec": {
   "display_name": "Python 3",
   "language": "python",
   "name": "python3"
  },
  "language_info": {
   "codemirror_mode": {
    "name": "ipython",
    "version": 3
   },
   "file_extension": ".py",
   "mimetype": "text/x-python",
   "name": "python",
   "nbconvert_exporter": "python",
   "pygments_lexer": "ipython3",
   "version": "3.7.4"
  }
 },
 "nbformat": 4,
 "nbformat_minor": 2
}
