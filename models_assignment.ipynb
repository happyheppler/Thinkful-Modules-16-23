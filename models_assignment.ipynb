{
 "cells": [
  {
   "cell_type": "markdown",
   "metadata": {},
   "source": [
    "# Assignment\n",
    "\n",
    "1. Try to model the result of a coin toss. In your model, include any features that you think important in explaining the result. Discuss with your mentor about the pros and cons of adding too many features into your model.\n",
    "\n",
    "2. If you ever used Netflix, you should already have realized that it provides some recommendations for you to watch. In data science, this is an example of the so-called recommendations systems. Read this nontechnical blog post of Netflix about how they model their recommendations systems. Then, derive the features they use in their recommendations engines and discuss what else can be incorporated into this model."
   ]
  },
  {
   "cell_type": "markdown",
   "metadata": {},
   "source": [
    "## 1. Coin Toss Model\n",
    "\n",
    "Assumptions:\n",
    "- Two sided coin\n",
    "- Evenly weighted coin (equal chance of landing on heads or tails)\n",
    "\n",
    "Potential features:\n",
    "- Weight of coin\n",
    "- Height of coin toss\n",
    "- Radius of coin\n",
    "- How the coin is tossed (does the coin flip in the air)\n",
    "- Area of surface where coin is tossed\n",
    "- Slope of surface where coin is tossed\n",
    "- If area is open (floor), has edges (box), or cliffs (table)\n",
    "\n",
    "Pros of adding too many features:\n",
    "- Explain all possible variation\n",
    "\n",
    "Cons of adding too many features:\n",
    "- Difficult to work with (time and resource intensive, large sample size)\n",
    "- Overfitting (not applicable to other similar scenarios)\n",
    "- Redundant"
   ]
  },
  {
   "cell_type": "markdown",
   "metadata": {},
   "source": [
    "## 2. Netflix Recommendation System\n",
    "Features\n",
    "- Viewing history (weighted towards most recent)\n",
    "- Ratings of other titles\n",
    "- Similarities to other members (tastes and preferences)\n",
    "- Genre\n",
    "- Categories\n",
    "- Actors\n",
    "- Release year\n",
    "- Time of day you watch\n",
    "- Devices you watch on\n",
    "- How long you watch\n",
    "\n",
    "Other Potential Features\n",
    "- Demographic information and life events (location, age, gender, profession, income, marital status, children/no children, unique life experiences)\n",
    "- Hobbies\n",
    "- Search history (Netflix and beyond)\n",
    "- View history on other apps\n",
    "- Producers/directors\n",
    "- Social media activity (pages/people you follow)"
   ]
  },
  {
   "cell_type": "code",
   "execution_count": null,
   "metadata": {},
   "outputs": [],
   "source": []
  }
 ],
 "metadata": {
  "kernelspec": {
   "display_name": "Python 3",
   "language": "python",
   "name": "python3"
  },
  "language_info": {
   "codemirror_mode": {
    "name": "ipython",
    "version": 3
   },
   "file_extension": ".py",
   "mimetype": "text/x-python",
   "name": "python",
   "nbconvert_exporter": "python",
   "pygments_lexer": "ipython3",
   "version": "3.7.4"
  }
 },
 "nbformat": 4,
 "nbformat_minor": 2
}
