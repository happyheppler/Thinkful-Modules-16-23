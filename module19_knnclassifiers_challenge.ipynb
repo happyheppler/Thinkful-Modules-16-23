{
 "cells": [
  {
   "cell_type": "markdown",
   "metadata": {},
   "source": [
    "# Challenge: Implement the Nearest Neighbor Algorithm¶\n",
    "The Nearest Neighbor algorithm is extremely simple. So simple, in fact, that you should be able to build it yourself from scratch using the Python you already know. Code a Nearest Neighbors algorithm that works for two dimensional data. You can use either arrays or dataframes to do this. Test it against the SKLearn package on the music dataset from above to ensure that it's correct."
   ]
  },
  {
   "cell_type": "code",
   "execution_count": 1,
   "metadata": {},
   "outputs": [],
   "source": [
    "import numpy as np\n",
    "import pandas as pd\n",
    "import matplotlib.pyplot as plt\n",
    "import scipy\n",
    "from math import sqrt\n",
    "\n",
    "from sklearn.neighbors import KNeighborsClassifier\n",
    "\n",
    "%matplotlib inline"
   ]
  },
  {
   "cell_type": "code",
   "execution_count": 2,
   "metadata": {},
   "outputs": [],
   "source": [
    "# Some data to play with\n",
    "music= pd.DataFrame()\n",
    "\n",
    "music['duration'] = [184, 134, 243, 186, 122, 197, 294, 382, 102, 264, \n",
    "                     205, 110, 307, 110, 397, 153, 190, 192, 210, 403,\n",
    "                     164, 198, 204, 253, 234, 190, 182, 401, 376, 102]\n",
    "\n",
    "music['loudness'] = [18, 34, 43, 36, 22, 9, 29, 22, 10, 24, \n",
    "                     20, 10, 17, 51, 7, 13, 19, 12, 21, 22,\n",
    "                     16, 18, 4, 23, 34, 19, 14, 11, 37, 42]\n",
    "\n",
    "# We know whether the songs in our training data are jazz or not\n",
    "music['jazz'] = [ 1, 0, 0, 0, 1, 1, 0, 1, 1, 0,\n",
    "                  0, 1, 1, 0, 1, 1, 0, 1, 1, 1,\n",
    "                  1, 1, 1, 1, 0, 0, 1, 1, 0, 0]"
   ]
  },
  {
   "cell_type": "code",
   "execution_count": 3,
   "metadata": {},
   "outputs": [],
   "source": [
    "temp = music[['loudness', 'duration', 'jazz']]\n",
    "music_array = np.array(temp)"
   ]
  },
  {
   "cell_type": "code",
   "execution_count": 4,
   "metadata": {},
   "outputs": [
    {
     "data": {
      "text/plain": [
       "array([[ 18, 184,   1],\n",
       "       [ 34, 134,   0],\n",
       "       [ 43, 243,   0],\n",
       "       [ 36, 186,   0],\n",
       "       [ 22, 122,   1],\n",
       "       [  9, 197,   1],\n",
       "       [ 29, 294,   0],\n",
       "       [ 22, 382,   1],\n",
       "       [ 10, 102,   1],\n",
       "       [ 24, 264,   0],\n",
       "       [ 20, 205,   0],\n",
       "       [ 10, 110,   1],\n",
       "       [ 17, 307,   1],\n",
       "       [ 51, 110,   0],\n",
       "       [  7, 397,   1],\n",
       "       [ 13, 153,   1],\n",
       "       [ 19, 190,   0],\n",
       "       [ 12, 192,   1],\n",
       "       [ 21, 210,   1],\n",
       "       [ 22, 403,   1],\n",
       "       [ 16, 164,   1],\n",
       "       [ 18, 198,   1],\n",
       "       [  4, 204,   1],\n",
       "       [ 23, 253,   1],\n",
       "       [ 34, 234,   0],\n",
       "       [ 19, 190,   0],\n",
       "       [ 14, 182,   1],\n",
       "       [ 11, 401,   1],\n",
       "       [ 37, 376,   0],\n",
       "       [ 42, 102,   0]])"
      ]
     },
     "execution_count": 4,
     "metadata": {},
     "output_type": "execute_result"
    }
   ],
   "source": [
    "music_array"
   ]
  },
  {
   "cell_type": "code",
   "execution_count": 5,
   "metadata": {},
   "outputs": [],
   "source": [
    "# Calculate euclidean distance between two points\n",
    "def euclidean_distance(row1, row2):\n",
    "    distance = 0.0\n",
    "    for i in range(len(row1) - 1): # Ignores last column which is the classification\n",
    "        distance += (row1[i] - row2[i])**2 # Squared distance between two points\n",
    "    return sqrt(distance)"
   ]
  },
  {
   "cell_type": "code",
   "execution_count": 6,
   "metadata": {},
   "outputs": [
    {
     "name": "stdout",
     "output_type": "stream",
     "text": [
      "0.0\n",
      "52.49761899362675\n",
      "64.07807737440318\n",
      "18.110770276274835\n",
      "62.12889826803627\n",
      "15.811388300841896\n",
      "110.54863183232979\n",
      "198.04039991880444\n",
      "82.38931969618392\n",
      "80.22468448052632\n",
      "21.095023109728988\n",
      "74.43117626371358\n",
      "123.00406497347964\n",
      "81.02468759581859\n",
      "213.283848427395\n",
      "31.400636936215164\n",
      "6.082762530298219\n",
      "10.0\n",
      "26.1725046566048\n",
      "219.03652663425797\n",
      "20.09975124224178\n",
      "14.0\n",
      "24.413111231467404\n",
      "69.18092222571191\n",
      "52.49761899362675\n",
      "6.082762530298219\n",
      "4.47213595499958\n",
      "217.1128738697915\n",
      "192.93781381574738\n",
      "85.44003745317531\n"
     ]
    }
   ],
   "source": [
    "# Test euclidean_distance between first point and all other points\n",
    "row1 = music_array[0]\n",
    "\n",
    "for row in music_array:\n",
    "    distance = euclidean_distance(row1, row)\n",
    "    print(distance)"
   ]
  },
  {
   "cell_type": "code",
   "execution_count": 7,
   "metadata": {},
   "outputs": [],
   "source": [
    "# Get neighbors and sort by distance (nearest neighbors)\n",
    "def get_neighbors(train_data, test_row,  num_neighbors):\n",
    "    distances = list()\n",
    "    for train_row in train_data:\n",
    "        dist = euclidean_distance(test_row, train_row)\n",
    "        distances.append((train_row, dist))\n",
    "    distances.sort(key=lambda tup: tup[1]) # sort list of train_row and dist tuples by dist tuple\n",
    "    neighbors = list()\n",
    "    for i in range(num_neighbors):\n",
    "        neighbors.append(distances[i][0])\n",
    "    return neighbors"
   ]
  },
  {
   "cell_type": "code",
   "execution_count": 8,
   "metadata": {},
   "outputs": [
    {
     "name": "stdout",
     "output_type": "stream",
     "text": [
      "[ 18 184   1]\n",
      "[ 14 182   1]\n",
      "[ 19 190   0]\n",
      "[ 19 190   0]\n"
     ]
    }
   ],
   "source": [
    "# Test get_neighbors between first point and all other points\n",
    "neighbors = get_neighbors(music_array, music_array[0], 4)\n",
    "for neighbor in neighbors:\n",
    "    print(neighbor)"
   ]
  },
  {
   "cell_type": "code",
   "execution_count": 23,
   "metadata": {},
   "outputs": [],
   "source": [
    "# Make predictions (limited to 2D data)\n",
    "def predict(train_data, test_row, num_neighbors):\n",
    "    test_row.append(2)\n",
    "    neighbors = get_neighbors(train_data, test_row, num_neighbors)\n",
    "    output = [row[-1] for row in neighbors] # get classification for each neighbor\n",
    "    prob_one = sum(output) / len(output)\n",
    "    prob_zero = 1 - prob_one\n",
    "    if prob_one > prob_zero:\n",
    "        prediction = 1\n",
    "    elif prob_one < prob_zero:\n",
    "        prediction = 0\n",
    "    elif prob_one == prob_zero:\n",
    "        prediction = 'either'\n",
    "    return [prob_zero, prob_one], prediction"
   ]
  },
  {
   "cell_type": "code",
   "execution_count": 24,
   "metadata": {
    "scrolled": true
   },
   "outputs": [
    {
     "data": {
      "text/plain": [
       "([0.4, 0.6], 1)"
      ]
     },
     "execution_count": 24,
     "metadata": {},
     "output_type": "execute_result"
    }
   ],
   "source": [
    "# Test nearest neighbor algorithm\n",
    "predict(music_array, [24, 190], 5)"
   ]
  },
  {
   "cell_type": "markdown",
   "metadata": {},
   "source": [
    "Adapted from example at https://machinelearningmastery.com/tutorial-to-implement-k-nearest-neighbors-in-python-from-scratch/"
   ]
  }
 ],
 "metadata": {
  "kernelspec": {
   "display_name": "Python 3",
   "language": "python",
   "name": "python3"
  },
  "language_info": {
   "codemirror_mode": {
    "name": "ipython",
    "version": 3
   },
   "file_extension": ".py",
   "mimetype": "text/x-python",
   "name": "python",
   "nbconvert_exporter": "python",
   "pygments_lexer": "ipython3",
   "version": "3.7.4"
  }
 },
 "nbformat": 4,
 "nbformat_minor": 2
}
