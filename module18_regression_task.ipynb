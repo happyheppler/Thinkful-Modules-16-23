{
 "cells": [
  {
   "cell_type": "markdown",
   "metadata": {},
   "source": [
    "### Assignment\n",
    "\n",
    "1. Let's assume that you have World Bank data on financial, economic and social indicators for several countries. You want to measure the factors that affect the level of development in these countries. To this end, you decide to use per capita income as a proxy for the development level, which is defined as the national income divided by the population. You want to use some features in your dataset to predict per capita income. Is this task a classification or a regression task? Why?\n",
    "\n",
    "This is a regression task because per capita income is a continuous variable."
   ]
  },
  {
   "cell_type": "markdown",
   "metadata": {},
   "source": [
    "2. Which of the following arguments are false and why?\n",
    "\n",
    "    OLS is a special type of linear regression models. False, OLS is an optimization strategy/algorithm used in linear regression models.\n",
    "\n",
    "    Regression models become useless if they don’t meet the assumptions of linear regression. False, there are techniques that can be used to modify/adapt regression models even when all of the assumptions are not met.\n",
    "\n",
    "    Estimation and prediction are the same thing in the context of linear regression models. False, estimation is the process of minimizing the sum of the squared distances between the model and each observation. Prediction is the calculation of outcome values for new observations.\n",
    "\n",
    "    Linear regression is only one kind of regression model. Regression problems can also be solved with other kind of models like Support Vector Machines or Random Forests. True."
   ]
  },
  {
   "cell_type": "markdown",
   "metadata": {},
   "source": [
    "3. Assume that your project manager wants you to discover which free services your company offers make your customers buy more of your paid services. Formulate this task as a regression problem and write down the potential outcome and features that you’d like to work on.\n",
    "\n",
    "Look for free services that correlate with more paid services. This correlation could specifically appear as a relationship between one or more free services and total revenue (outcome variable). Such a model might look like:\n",
    "\n",
    "total revenue = 𝛼 + 𝛽 * free service 1 + 𝜃 * free service 2"
   ]
  },
  {
   "cell_type": "code",
   "execution_count": null,
   "metadata": {},
   "outputs": [],
   "source": []
  }
 ],
 "metadata": {
  "kernelspec": {
   "display_name": "Python 3",
   "language": "python",
   "name": "python3"
  },
  "language_info": {
   "codemirror_mode": {
    "name": "ipython",
    "version": 3
   },
   "file_extension": ".py",
   "mimetype": "text/x-python",
   "name": "python",
   "nbconvert_exporter": "python",
   "pygments_lexer": "ipython3",
   "version": "3.7.4"
  }
 },
 "nbformat": 4,
 "nbformat_minor": 2
}
